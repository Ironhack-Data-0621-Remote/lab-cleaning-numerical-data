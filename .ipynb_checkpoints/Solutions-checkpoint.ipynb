{
 "cells": [
  {
   "cell_type": "markdown",
   "id": "f85f6b9e",
   "metadata": {},
   "source": [
    "# Lab | Cleaning numerical data"
   ]
  },
  {
   "cell_type": "markdown",
   "id": "e058abdc",
   "metadata": {},
   "source": [
    "For this lab, we will be using the dataset in the Customer Analysis Business Case. This dataset can be found in files_for_lab folder."
   ]
  },
  {
   "cell_type": "markdown",
   "id": "ce316d8a",
   "metadata": {},
   "source": [
    "### 1. Import the necessary libraries."
   ]
  },
  {
   "cell_type": "code",
   "execution_count": null,
   "id": "4b50c2f3",
   "metadata": {},
   "outputs": [],
   "source": [
    "import pandas as pd\n",
    "import numpy as np\n",
    "import datetime\n",
    "import warnings\n",
    "import matplotlib.pyplot as plt\n",
    "import seaborn as sns\n",
    "import math\n",
    "import random\n",
    "warnings.filterwarnings('ignore')\n",
    "\n",
    "pd.options.display.max_columns = None\n",
    "pd.set_option('max_row', None)"
   ]
  },
  {
   "cell_type": "markdown",
   "id": "445f4cd7",
   "metadata": {},
   "source": [
    "### 2. Load the we_fn_use_c_marketing_customer_value_analysis.csv into the variable customer_df."
   ]
  },
  {
   "cell_type": "code",
   "execution_count": null,
   "id": "a1129754",
   "metadata": {},
   "outputs": [],
   "source": [
    "customer_df = pd.read_csv('files_for_lab/we_fn_use_c_marketing_customer_value_analysis.csv')"
   ]
  },
  {
   "cell_type": "markdown",
   "id": "5040316b",
   "metadata": {},
   "source": [
    "### 3. First look at its main features (head, shape, info)."
   ]
  },
  {
   "cell_type": "code",
   "execution_count": null,
   "id": "0d867b71",
   "metadata": {},
   "outputs": [],
   "source": [
    "customer_df.head()"
   ]
  },
  {
   "cell_type": "code",
   "execution_count": null,
   "id": "419d110d-a689-4d09-a9e1-18df30608813",
   "metadata": {},
   "outputs": [],
   "source": [
    "customer_df.shape"
   ]
  },
  {
   "cell_type": "code",
   "execution_count": null,
   "id": "2e9431a2-ecdd-4836-a4bd-96232c134e55",
   "metadata": {},
   "outputs": [],
   "source": [
    "customer_df.info()"
   ]
  },
  {
   "cell_type": "markdown",
   "id": "407e1d74",
   "metadata": {},
   "source": [
    "### 4. Rename the columns so they follow the PE8 (snake case)."
   ]
  },
  {
   "cell_type": "code",
   "execution_count": null,
   "id": "03540b59",
   "metadata": {},
   "outputs": [],
   "source": [
    "def clean_headers(df):\n",
    "    df.columns = df.columns.str.lower().str.strip().str.replace(' ', '_')\n",
    "    return df"
   ]
  },
  {
   "cell_type": "code",
   "execution_count": null,
   "id": "a09647cc-267b-408e-b9ec-8517ba11e704",
   "metadata": {},
   "outputs": [],
   "source": [
    "customer_df.rename(columns={'EmploymentStatus':'Employment Status'}, inplace=True)\n",
    "clean_headers(customer_df)\n",
    "\n",
    "customer_df.columns"
   ]
  },
  {
   "cell_type": "markdown",
   "id": "30a9d36f",
   "metadata": {},
   "source": [
    "### 5. Change effective to date column to datetime format."
   ]
  },
  {
   "cell_type": "code",
   "execution_count": null,
   "id": "cb6e428f-f270-4d19-a382-548690d0f9e2",
   "metadata": {},
   "outputs": [],
   "source": [
    "customer_df['effective_to_date'].unique()"
   ]
  },
  {
   "cell_type": "markdown",
   "id": "4b3cc9c1-2306-439b-b36e-117aea9f96fa",
   "metadata": {},
   "source": [
    "> The values in the column dont require cleaning before conversion into datetime "
   ]
  },
  {
   "cell_type": "code",
   "execution_count": null,
   "id": "cd0ce652",
   "metadata": {},
   "outputs": [],
   "source": [
    "customer_df['effective_to_date'] = customer_df['effective_to_date'].apply(pd.to_datetime, errors='coerce')"
   ]
  },
  {
   "cell_type": "code",
   "execution_count": null,
   "id": "f1652981-fea2-44e5-9612-16a1c9fc78f9",
   "metadata": {},
   "outputs": [],
   "source": [
    "customer_df['effective_to_date'].isna().sum()"
   ]
  },
  {
   "cell_type": "markdown",
   "id": "60e33cbe",
   "metadata": {},
   "source": [
    "### 6. Check NaN values per column."
   ]
  },
  {
   "cell_type": "code",
   "execution_count": null,
   "id": "f7a53dd5",
   "metadata": {},
   "outputs": [],
   "source": [
    "customer_df.isna().sum()"
   ]
  },
  {
   "cell_type": "code",
   "execution_count": null,
   "id": "82956c1a-6817-47ad-8f1e-e384f2f2b6f4",
   "metadata": {},
   "outputs": [],
   "source": [
    "# checking for zeros to replace in numerical columns\n",
    "\n",
    "for column in customer_df.select_dtypes(np.number):\n",
    "    print(column, len(customer_df[customer_df[column] == 0]), '\\n')"
   ]
  },
  {
   "cell_type": "markdown",
   "id": "7b42475b-c1c8-4e72-8cdb-7b543162116b",
   "metadata": {},
   "source": [
    "> O as a value makes sense in all columns except probably in the income column. Replacing 0 with the median"
   ]
  },
  {
   "cell_type": "code",
   "execution_count": null,
   "id": "88fe0bf8-68a6-4c6a-94f1-c93bc81ca3aa",
   "metadata": {},
   "outputs": [],
   "source": [
    "#not working\n",
    "\n",
    "customer_df['income'] = customer_df['income'].fillna(customer_df['income'].median())"
   ]
  },
  {
   "cell_type": "code",
   "execution_count": null,
   "id": "3e67979e-973f-45f6-9c45-afa7411cbfe4",
   "metadata": {},
   "outputs": [],
   "source": []
  },
  {
   "cell_type": "markdown",
   "id": "b00cdcc1",
   "metadata": {},
   "source": [
    "### 7. Define a function that differentiates between continuous and discrete variables. Hint: A number of unique values might be useful. Store continuous data into a continuous variable and do the same for discrete and categorical."
   ]
  },
  {
   "cell_type": "code",
   "execution_count": null,
   "id": "bde19dcd",
   "metadata": {},
   "outputs": [],
   "source": [
    "for column in customer_df.columns:\n",
    "    print(column, customer_df[column].nunique(), customer_df[column].dtypes, '\\n')"
   ]
  },
  {
   "cell_type": "markdown",
   "id": "7ffa1a0f-20fa-4f7f-82a4-2335486037f4",
   "metadata": {},
   "source": [
    "> For this dataset, to separate descrete from continuous variables, you can argue that a threshold of right above 200 unique values makes sense, to have 'monthly_premium_auto' still categorized as discrete. The lower threshold should be 6 to filter out the categorial values, accepting that 'number_of_open_complaints' gets recategorized because it also has only 6 unique values. "
   ]
  },
  {
   "cell_type": "code",
   "execution_count": null,
   "id": "f37b6b1b-cd9a-49df-8bc0-e834ee721442",
   "metadata": {},
   "outputs": [],
   "source": [
    "def var_checker(df, in_columns=df.columns, skip_columns=):\n",
    "    n_unique = 0\n",
    "    for column in in_columns:\n",
    "        if column not in skip_columns:\n",
    "            if df[column].nunique() <= 6:\n",
    "                pass\n",
    "            elif (df[column].nunique() > 6) & (df[column].nunique() < 210):\n",
    "                pass\n",
    "            else:\n",
    "                pass\n",
    "\n",
    "# To Do, not sure what to do here. "
   ]
  },
  {
   "cell_type": "markdown",
   "id": "3f193f28",
   "metadata": {},
   "source": [
    "### 8. For the categorical data, check if there is some kind of text in a variable so we would need to clean it. Hint: Use the same method you used in step 7. Depending on the implementation, decide what to do with the variables you get."
   ]
  },
  {
   "cell_type": "code",
   "execution_count": null,
   "id": "a9f34d23-cb9d-4d15-af04-f8573b72a281",
   "metadata": {},
   "outputs": [],
   "source": [
    "# checking for values to clean in categorical columns\n",
    "\n",
    "for column in customer_df.select_dtypes(np.object):\n",
    "    print(column, customer_df[column].unique(), '\\n')"
   ]
  },
  {
   "cell_type": "markdown",
   "id": "9c2f332b-e009-45dd-9480-3053294e3afc",
   "metadata": {},
   "source": [
    "> no replacements neccessary"
   ]
  },
  {
   "cell_type": "code",
   "execution_count": null,
   "id": "16578fb4",
   "metadata": {},
   "outputs": [],
   "source": []
  },
  {
   "cell_type": "markdown",
   "id": "b5e88313",
   "metadata": {},
   "source": [
    "### 9. Get categorical features."
   ]
  },
  {
   "cell_type": "code",
   "execution_count": null,
   "id": "c6968c8e",
   "metadata": {},
   "outputs": [],
   "source": [
    "customer_cat = customer_df.select_dtypes(np.object)"
   ]
  },
  {
   "cell_type": "markdown",
   "id": "dfe80fc9",
   "metadata": {},
   "source": [
    "### 10. What should we do with the customer_id column?"
   ]
  },
  {
   "cell_type": "code",
   "execution_count": null,
   "id": "ca721bb9",
   "metadata": {},
   "outputs": [],
   "source": [
    "customer_df.rename(columns={'customer':'id'}, inplace=True)\n",
    "customer_df = customer_df.set_index('id')"
   ]
  },
  {
   "cell_type": "code",
   "execution_count": null,
   "id": "f242d512-ab88-4a1d-95f3-eb2d95ec4579",
   "metadata": {},
   "outputs": [],
   "source": [
    "customer_df.head()"
   ]
  },
  {
   "cell_type": "code",
   "execution_count": null,
   "id": "e8c12f71-42e1-44f8-8f5a-9b6c9c5898a1",
   "metadata": {},
   "outputs": [],
   "source": []
  }
 ],
 "metadata": {
  "kernelspec": {
   "display_name": "Python3Brew",
   "language": "python",
   "name": "python3brew"
  },
  "language_info": {
   "codemirror_mode": {
    "name": "ipython",
    "version": 3
   },
   "file_extension": ".py",
   "mimetype": "text/x-python",
   "name": "python",
   "nbconvert_exporter": "python",
   "pygments_lexer": "ipython3",
   "version": "3.9.4"
  }
 },
 "nbformat": 4,
 "nbformat_minor": 5
}
