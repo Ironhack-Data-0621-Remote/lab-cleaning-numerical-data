{
 "cells": [
  {
   "cell_type": "markdown",
   "id": "f85f6b9e",
   "metadata": {},
   "source": [
    "# Lab | Cleaning numerical data"
   ]
  },
  {
   "cell_type": "markdown",
   "id": "e058abdc",
   "metadata": {},
   "source": [
    "For this lab, we will be using the dataset in the Customer Analysis Business Case. This dataset can be found in files_for_lab folder."
   ]
  },
  {
   "cell_type": "markdown",
   "id": "ce316d8a",
   "metadata": {},
   "source": [
    "### 1. Import the necessary libraries."
   ]
  },
  {
   "cell_type": "code",
   "execution_count": 1,
   "id": "4b50c2f3",
   "metadata": {},
   "outputs": [],
   "source": [
    "import pandas as pd\n",
    "import numpy as np"
   ]
  },
  {
   "cell_type": "markdown",
   "id": "445f4cd7",
   "metadata": {},
   "source": [
    "### 2. Load the we_fn_use_c_marketing_customer_value_analysis.csv into the variable customer_df."
   ]
  },
  {
   "cell_type": "code",
   "execution_count": 2,
   "id": "a1129754",
   "metadata": {},
   "outputs": [],
   "source": [
    "customer_df = pd.read_csv('we_fn_use_c_marketing_customer_value_analysis.csv')"
   ]
  },
  {
   "cell_type": "markdown",
   "id": "5040316b",
   "metadata": {},
   "source": [
    "### 3. First look at its main features (head, shape, info)."
   ]
  },
  {
   "cell_type": "code",
   "execution_count": 3,
   "id": "0d867b71",
   "metadata": {},
   "outputs": [
    {
     "data": {
      "text/html": [
       "<div>\n",
       "<style scoped>\n",
       "    .dataframe tbody tr th:only-of-type {\n",
       "        vertical-align: middle;\n",
       "    }\n",
       "\n",
       "    .dataframe tbody tr th {\n",
       "        vertical-align: top;\n",
       "    }\n",
       "\n",
       "    .dataframe thead th {\n",
       "        text-align: right;\n",
       "    }\n",
       "</style>\n",
       "<table border=\"1\" class=\"dataframe\">\n",
       "  <thead>\n",
       "    <tr style=\"text-align: right;\">\n",
       "      <th></th>\n",
       "      <th>Customer</th>\n",
       "      <th>State</th>\n",
       "      <th>Customer Lifetime Value</th>\n",
       "      <th>Response</th>\n",
       "      <th>Coverage</th>\n",
       "      <th>Education</th>\n",
       "      <th>Effective To Date</th>\n",
       "      <th>EmploymentStatus</th>\n",
       "      <th>Gender</th>\n",
       "      <th>Income</th>\n",
       "      <th>...</th>\n",
       "      <th>Months Since Policy Inception</th>\n",
       "      <th>Number of Open Complaints</th>\n",
       "      <th>Number of Policies</th>\n",
       "      <th>Policy Type</th>\n",
       "      <th>Policy</th>\n",
       "      <th>Renew Offer Type</th>\n",
       "      <th>Sales Channel</th>\n",
       "      <th>Total Claim Amount</th>\n",
       "      <th>Vehicle Class</th>\n",
       "      <th>Vehicle Size</th>\n",
       "    </tr>\n",
       "  </thead>\n",
       "  <tbody>\n",
       "    <tr>\n",
       "      <th>0</th>\n",
       "      <td>BU79786</td>\n",
       "      <td>Washington</td>\n",
       "      <td>2763.519279</td>\n",
       "      <td>No</td>\n",
       "      <td>Basic</td>\n",
       "      <td>Bachelor</td>\n",
       "      <td>2/24/11</td>\n",
       "      <td>Employed</td>\n",
       "      <td>F</td>\n",
       "      <td>56274</td>\n",
       "      <td>...</td>\n",
       "      <td>5</td>\n",
       "      <td>0</td>\n",
       "      <td>1</td>\n",
       "      <td>Corporate Auto</td>\n",
       "      <td>Corporate L3</td>\n",
       "      <td>Offer1</td>\n",
       "      <td>Agent</td>\n",
       "      <td>384.811147</td>\n",
       "      <td>Two-Door Car</td>\n",
       "      <td>Medsize</td>\n",
       "    </tr>\n",
       "    <tr>\n",
       "      <th>1</th>\n",
       "      <td>QZ44356</td>\n",
       "      <td>Arizona</td>\n",
       "      <td>6979.535903</td>\n",
       "      <td>No</td>\n",
       "      <td>Extended</td>\n",
       "      <td>Bachelor</td>\n",
       "      <td>1/31/11</td>\n",
       "      <td>Unemployed</td>\n",
       "      <td>F</td>\n",
       "      <td>0</td>\n",
       "      <td>...</td>\n",
       "      <td>42</td>\n",
       "      <td>0</td>\n",
       "      <td>8</td>\n",
       "      <td>Personal Auto</td>\n",
       "      <td>Personal L3</td>\n",
       "      <td>Offer3</td>\n",
       "      <td>Agent</td>\n",
       "      <td>1131.464935</td>\n",
       "      <td>Four-Door Car</td>\n",
       "      <td>Medsize</td>\n",
       "    </tr>\n",
       "    <tr>\n",
       "      <th>2</th>\n",
       "      <td>AI49188</td>\n",
       "      <td>Nevada</td>\n",
       "      <td>12887.431650</td>\n",
       "      <td>No</td>\n",
       "      <td>Premium</td>\n",
       "      <td>Bachelor</td>\n",
       "      <td>2/19/11</td>\n",
       "      <td>Employed</td>\n",
       "      <td>F</td>\n",
       "      <td>48767</td>\n",
       "      <td>...</td>\n",
       "      <td>38</td>\n",
       "      <td>0</td>\n",
       "      <td>2</td>\n",
       "      <td>Personal Auto</td>\n",
       "      <td>Personal L3</td>\n",
       "      <td>Offer1</td>\n",
       "      <td>Agent</td>\n",
       "      <td>566.472247</td>\n",
       "      <td>Two-Door Car</td>\n",
       "      <td>Medsize</td>\n",
       "    </tr>\n",
       "    <tr>\n",
       "      <th>3</th>\n",
       "      <td>WW63253</td>\n",
       "      <td>California</td>\n",
       "      <td>7645.861827</td>\n",
       "      <td>No</td>\n",
       "      <td>Basic</td>\n",
       "      <td>Bachelor</td>\n",
       "      <td>1/20/11</td>\n",
       "      <td>Unemployed</td>\n",
       "      <td>M</td>\n",
       "      <td>0</td>\n",
       "      <td>...</td>\n",
       "      <td>65</td>\n",
       "      <td>0</td>\n",
       "      <td>7</td>\n",
       "      <td>Corporate Auto</td>\n",
       "      <td>Corporate L2</td>\n",
       "      <td>Offer1</td>\n",
       "      <td>Call Center</td>\n",
       "      <td>529.881344</td>\n",
       "      <td>SUV</td>\n",
       "      <td>Medsize</td>\n",
       "    </tr>\n",
       "    <tr>\n",
       "      <th>4</th>\n",
       "      <td>HB64268</td>\n",
       "      <td>Washington</td>\n",
       "      <td>2813.692575</td>\n",
       "      <td>No</td>\n",
       "      <td>Basic</td>\n",
       "      <td>Bachelor</td>\n",
       "      <td>2/3/11</td>\n",
       "      <td>Employed</td>\n",
       "      <td>M</td>\n",
       "      <td>43836</td>\n",
       "      <td>...</td>\n",
       "      <td>44</td>\n",
       "      <td>0</td>\n",
       "      <td>1</td>\n",
       "      <td>Personal Auto</td>\n",
       "      <td>Personal L1</td>\n",
       "      <td>Offer1</td>\n",
       "      <td>Agent</td>\n",
       "      <td>138.130879</td>\n",
       "      <td>Four-Door Car</td>\n",
       "      <td>Medsize</td>\n",
       "    </tr>\n",
       "  </tbody>\n",
       "</table>\n",
       "<p>5 rows × 24 columns</p>\n",
       "</div>"
      ],
      "text/plain": [
       "  Customer       State  Customer Lifetime Value Response  Coverage Education  \\\n",
       "0  BU79786  Washington              2763.519279       No     Basic  Bachelor   \n",
       "1  QZ44356     Arizona              6979.535903       No  Extended  Bachelor   \n",
       "2  AI49188      Nevada             12887.431650       No   Premium  Bachelor   \n",
       "3  WW63253  California              7645.861827       No     Basic  Bachelor   \n",
       "4  HB64268  Washington              2813.692575       No     Basic  Bachelor   \n",
       "\n",
       "  Effective To Date EmploymentStatus Gender  Income  ...  \\\n",
       "0           2/24/11         Employed      F   56274  ...   \n",
       "1           1/31/11       Unemployed      F       0  ...   \n",
       "2           2/19/11         Employed      F   48767  ...   \n",
       "3           1/20/11       Unemployed      M       0  ...   \n",
       "4            2/3/11         Employed      M   43836  ...   \n",
       "\n",
       "  Months Since Policy Inception Number of Open Complaints  Number of Policies  \\\n",
       "0                             5                         0                   1   \n",
       "1                            42                         0                   8   \n",
       "2                            38                         0                   2   \n",
       "3                            65                         0                   7   \n",
       "4                            44                         0                   1   \n",
       "\n",
       "      Policy Type        Policy  Renew Offer Type  Sales Channel  \\\n",
       "0  Corporate Auto  Corporate L3            Offer1          Agent   \n",
       "1   Personal Auto   Personal L3            Offer3          Agent   \n",
       "2   Personal Auto   Personal L3            Offer1          Agent   \n",
       "3  Corporate Auto  Corporate L2            Offer1    Call Center   \n",
       "4   Personal Auto   Personal L1            Offer1          Agent   \n",
       "\n",
       "  Total Claim Amount  Vehicle Class Vehicle Size  \n",
       "0         384.811147   Two-Door Car      Medsize  \n",
       "1        1131.464935  Four-Door Car      Medsize  \n",
       "2         566.472247   Two-Door Car      Medsize  \n",
       "3         529.881344            SUV      Medsize  \n",
       "4         138.130879  Four-Door Car      Medsize  \n",
       "\n",
       "[5 rows x 24 columns]"
      ]
     },
     "execution_count": 3,
     "metadata": {},
     "output_type": "execute_result"
    }
   ],
   "source": [
    "customer_df.head()"
   ]
  },
  {
   "cell_type": "code",
   "execution_count": 5,
   "id": "c7617669-6516-439e-bd59-d92b885d3ea1",
   "metadata": {},
   "outputs": [
    {
     "data": {
      "text/plain": [
       "(9134, 24)"
      ]
     },
     "execution_count": 5,
     "metadata": {},
     "output_type": "execute_result"
    }
   ],
   "source": [
    "customer_df.shape"
   ]
  },
  {
   "cell_type": "code",
   "execution_count": 6,
   "id": "dca84407-2cf6-48fc-9f41-b2464c5be6ea",
   "metadata": {},
   "outputs": [
    {
     "name": "stdout",
     "output_type": "stream",
     "text": [
      "<class 'pandas.core.frame.DataFrame'>\n",
      "RangeIndex: 9134 entries, 0 to 9133\n",
      "Data columns (total 24 columns):\n",
      " #   Column                         Non-Null Count  Dtype  \n",
      "---  ------                         --------------  -----  \n",
      " 0   Customer                       9134 non-null   object \n",
      " 1   State                          9134 non-null   object \n",
      " 2   Customer Lifetime Value        9134 non-null   float64\n",
      " 3   Response                       9134 non-null   object \n",
      " 4   Coverage                       9134 non-null   object \n",
      " 5   Education                      9134 non-null   object \n",
      " 6   Effective To Date              9134 non-null   object \n",
      " 7   EmploymentStatus               9134 non-null   object \n",
      " 8   Gender                         9134 non-null   object \n",
      " 9   Income                         9134 non-null   int64  \n",
      " 10  Location Code                  9134 non-null   object \n",
      " 11  Marital Status                 9134 non-null   object \n",
      " 12  Monthly Premium Auto           9134 non-null   int64  \n",
      " 13  Months Since Last Claim        9134 non-null   int64  \n",
      " 14  Months Since Policy Inception  9134 non-null   int64  \n",
      " 15  Number of Open Complaints      9134 non-null   int64  \n",
      " 16  Number of Policies             9134 non-null   int64  \n",
      " 17  Policy Type                    9134 non-null   object \n",
      " 18  Policy                         9134 non-null   object \n",
      " 19  Renew Offer Type               9134 non-null   object \n",
      " 20  Sales Channel                  9134 non-null   object \n",
      " 21  Total Claim Amount             9134 non-null   float64\n",
      " 22  Vehicle Class                  9134 non-null   object \n",
      " 23  Vehicle Size                   9134 non-null   object \n",
      "dtypes: float64(2), int64(6), object(16)\n",
      "memory usage: 1.7+ MB\n"
     ]
    }
   ],
   "source": [
    "customer_df.info()"
   ]
  },
  {
   "cell_type": "markdown",
   "id": "407e1d74",
   "metadata": {},
   "source": [
    "### 4. Rename the columns so they follow the PE8 (snake case)."
   ]
  },
  {
   "cell_type": "code",
   "execution_count": 34,
   "id": "03540b59",
   "metadata": {},
   "outputs": [],
   "source": [
    "def snake_case(df):\n",
    "    df.columns = df.columns.str.lower().str.replace(' ', '_')\n",
    "    return df"
   ]
  },
  {
   "cell_type": "code",
   "execution_count": 36,
   "id": "23b46199-5aaa-472f-92a7-b95a5727ce38",
   "metadata": {},
   "outputs": [
    {
     "data": {
      "text/plain": [
       "Index(['customer', 'state', 'customer_lifetime_value', 'response', 'coverage',\n",
       "       'education', 'effective_to_date', 'employmentstatus', 'gender',\n",
       "       'income', 'location_code', 'marital_status', 'monthly_premium_auto',\n",
       "       'months_since_last_claim', 'months_since_policy_inception',\n",
       "       'number_of_open_complaints', 'number_of_policies', 'policy_type',\n",
       "       'policy', 'renew_offer_type', 'sales_channel', 'total_claim_amount',\n",
       "       'vehicle_class', 'vehicle_size'],\n",
       "      dtype='object')"
      ]
     },
     "execution_count": 36,
     "metadata": {},
     "output_type": "execute_result"
    }
   ],
   "source": [
    "snake_case(customer_df)\n",
    "customer_df.columns"
   ]
  },
  {
   "cell_type": "markdown",
   "id": "30a9d36f",
   "metadata": {},
   "source": [
    "### 5. Change effective to date column to datetime format."
   ]
  },
  {
   "cell_type": "code",
   "execution_count": 38,
   "id": "cd0ce652",
   "metadata": {},
   "outputs": [],
   "source": [
    "customer_df['effective_to_date'] = pd.to_datetime(customer_df['effective_to_date'])"
   ]
  },
  {
   "cell_type": "code",
   "execution_count": 41,
   "id": "f50ec2f2-aec2-4c05-8bc1-a74eea0006bd",
   "metadata": {},
   "outputs": [
    {
     "name": "stdout",
     "output_type": "stream",
     "text": [
      "<class 'pandas.core.frame.DataFrame'>\n",
      "RangeIndex: 9134 entries, 0 to 9133\n",
      "Data columns (total 24 columns):\n",
      " #   Column                         Non-Null Count  Dtype         \n",
      "---  ------                         --------------  -----         \n",
      " 0   customer                       9134 non-null   object        \n",
      " 1   state                          9134 non-null   object        \n",
      " 2   customer_lifetime_value        9134 non-null   float64       \n",
      " 3   response                       9134 non-null   object        \n",
      " 4   coverage                       9134 non-null   object        \n",
      " 5   education                      9134 non-null   object        \n",
      " 6   effective_to_date              9134 non-null   datetime64[ns]\n",
      " 7   employmentstatus               9134 non-null   object        \n",
      " 8   gender                         9134 non-null   object        \n",
      " 9   income                         9134 non-null   int64         \n",
      " 10  location_code                  9134 non-null   object        \n",
      " 11  marital_status                 9134 non-null   object        \n",
      " 12  monthly_premium_auto           9134 non-null   int64         \n",
      " 13  months_since_last_claim        9134 non-null   int64         \n",
      " 14  months_since_policy_inception  9134 non-null   int64         \n",
      " 15  number_of_open_complaints      9134 non-null   int64         \n",
      " 16  number_of_policies             9134 non-null   int64         \n",
      " 17  policy_type                    9134 non-null   object        \n",
      " 18  policy                         9134 non-null   object        \n",
      " 19  renew_offer_type               9134 non-null   object        \n",
      " 20  sales_channel                  9134 non-null   object        \n",
      " 21  total_claim_amount             9134 non-null   float64       \n",
      " 22  vehicle_class                  9134 non-null   object        \n",
      " 23  vehicle_size                   9134 non-null   object        \n",
      "dtypes: datetime64[ns](1), float64(2), int64(6), object(15)\n",
      "memory usage: 1.7+ MB\n"
     ]
    }
   ],
   "source": [
    "customer_df.info()"
   ]
  },
  {
   "cell_type": "markdown",
   "id": "60e33cbe",
   "metadata": {},
   "source": [
    "### 6. Check NaN values per column."
   ]
  },
  {
   "cell_type": "code",
   "execution_count": 42,
   "id": "0035b513-94dd-4c9c-8e3c-858253a110b5",
   "metadata": {},
   "outputs": [
    {
     "data": {
      "text/plain": [
       "customer                         0\n",
       "state                            0\n",
       "customer_lifetime_value          0\n",
       "response                         0\n",
       "coverage                         0\n",
       "education                        0\n",
       "effective_to_date                0\n",
       "employmentstatus                 0\n",
       "gender                           0\n",
       "income                           0\n",
       "location_code                    0\n",
       "marital_status                   0\n",
       "monthly_premium_auto             0\n",
       "months_since_last_claim          0\n",
       "months_since_policy_inception    0\n",
       "number_of_open_complaints        0\n",
       "number_of_policies               0\n",
       "policy_type                      0\n",
       "policy                           0\n",
       "renew_offer_type                 0\n",
       "sales_channel                    0\n",
       "total_claim_amount               0\n",
       "vehicle_class                    0\n",
       "vehicle_size                     0\n",
       "dtype: int64"
      ]
     },
     "execution_count": 42,
     "metadata": {},
     "output_type": "execute_result"
    }
   ],
   "source": [
    "customer_df.isna().sum()"
   ]
  },
  {
   "cell_type": "code",
   "execution_count": 47,
   "id": "5c902ff4-6ad5-4680-9e22-595720e08bbf",
   "metadata": {},
   "outputs": [
    {
     "data": {
      "text/html": [
       "<div>\n",
       "<style scoped>\n",
       "    .dataframe tbody tr th:only-of-type {\n",
       "        vertical-align: middle;\n",
       "    }\n",
       "\n",
       "    .dataframe tbody tr th {\n",
       "        vertical-align: top;\n",
       "    }\n",
       "\n",
       "    .dataframe thead th {\n",
       "        text-align: right;\n",
       "    }\n",
       "</style>\n",
       "<table border=\"1\" class=\"dataframe\">\n",
       "  <thead>\n",
       "    <tr style=\"text-align: right;\">\n",
       "      <th></th>\n",
       "      <th>percentage_nulls</th>\n",
       "    </tr>\n",
       "  </thead>\n",
       "  <tbody>\n",
       "    <tr>\n",
       "      <th>customer</th>\n",
       "      <td>0.0</td>\n",
       "    </tr>\n",
       "    <tr>\n",
       "      <th>state</th>\n",
       "      <td>0.0</td>\n",
       "    </tr>\n",
       "    <tr>\n",
       "      <th>vehicle_class</th>\n",
       "      <td>0.0</td>\n",
       "    </tr>\n",
       "    <tr>\n",
       "      <th>total_claim_amount</th>\n",
       "      <td>0.0</td>\n",
       "    </tr>\n",
       "    <tr>\n",
       "      <th>sales_channel</th>\n",
       "      <td>0.0</td>\n",
       "    </tr>\n",
       "    <tr>\n",
       "      <th>renew_offer_type</th>\n",
       "      <td>0.0</td>\n",
       "    </tr>\n",
       "    <tr>\n",
       "      <th>policy</th>\n",
       "      <td>0.0</td>\n",
       "    </tr>\n",
       "    <tr>\n",
       "      <th>policy_type</th>\n",
       "      <td>0.0</td>\n",
       "    </tr>\n",
       "    <tr>\n",
       "      <th>number_of_policies</th>\n",
       "      <td>0.0</td>\n",
       "    </tr>\n",
       "    <tr>\n",
       "      <th>number_of_open_complaints</th>\n",
       "      <td>0.0</td>\n",
       "    </tr>\n",
       "    <tr>\n",
       "      <th>months_since_policy_inception</th>\n",
       "      <td>0.0</td>\n",
       "    </tr>\n",
       "    <tr>\n",
       "      <th>months_since_last_claim</th>\n",
       "      <td>0.0</td>\n",
       "    </tr>\n",
       "    <tr>\n",
       "      <th>monthly_premium_auto</th>\n",
       "      <td>0.0</td>\n",
       "    </tr>\n",
       "    <tr>\n",
       "      <th>marital_status</th>\n",
       "      <td>0.0</td>\n",
       "    </tr>\n",
       "    <tr>\n",
       "      <th>location_code</th>\n",
       "      <td>0.0</td>\n",
       "    </tr>\n",
       "    <tr>\n",
       "      <th>income</th>\n",
       "      <td>0.0</td>\n",
       "    </tr>\n",
       "    <tr>\n",
       "      <th>gender</th>\n",
       "      <td>0.0</td>\n",
       "    </tr>\n",
       "    <tr>\n",
       "      <th>employmentstatus</th>\n",
       "      <td>0.0</td>\n",
       "    </tr>\n",
       "    <tr>\n",
       "      <th>effective_to_date</th>\n",
       "      <td>0.0</td>\n",
       "    </tr>\n",
       "    <tr>\n",
       "      <th>education</th>\n",
       "      <td>0.0</td>\n",
       "    </tr>\n",
       "    <tr>\n",
       "      <th>coverage</th>\n",
       "      <td>0.0</td>\n",
       "    </tr>\n",
       "    <tr>\n",
       "      <th>response</th>\n",
       "      <td>0.0</td>\n",
       "    </tr>\n",
       "    <tr>\n",
       "      <th>customer_lifetime_value</th>\n",
       "      <td>0.0</td>\n",
       "    </tr>\n",
       "    <tr>\n",
       "      <th>vehicle_size</th>\n",
       "      <td>0.0</td>\n",
       "    </tr>\n",
       "  </tbody>\n",
       "</table>\n",
       "</div>"
      ],
      "text/plain": [
       "                               percentage_nulls\n",
       "customer                                    0.0\n",
       "state                                       0.0\n",
       "vehicle_class                               0.0\n",
       "total_claim_amount                          0.0\n",
       "sales_channel                               0.0\n",
       "renew_offer_type                            0.0\n",
       "policy                                      0.0\n",
       "policy_type                                 0.0\n",
       "number_of_policies                          0.0\n",
       "number_of_open_complaints                   0.0\n",
       "months_since_policy_inception               0.0\n",
       "months_since_last_claim                     0.0\n",
       "monthly_premium_auto                        0.0\n",
       "marital_status                              0.0\n",
       "location_code                               0.0\n",
       "income                                      0.0\n",
       "gender                                      0.0\n",
       "employmentstatus                            0.0\n",
       "effective_to_date                           0.0\n",
       "education                                   0.0\n",
       "coverage                                    0.0\n",
       "response                                    0.0\n",
       "customer_lifetime_value                     0.0\n",
       "vehicle_size                                0.0"
      ]
     },
     "execution_count": 47,
     "metadata": {},
     "output_type": "execute_result"
    }
   ],
   "source": [
    "nulls = pd.DataFrame(customer_df.isna().sum()*100/len(customer_df), columns=['percentage_nulls'])\n",
    "nulls.sort_values('percentage_nulls', ascending = False)"
   ]
  },
  {
   "cell_type": "code",
   "execution_count": 46,
   "id": "641276e1-a8ab-4e1e-b86e-0f764bfbe65c",
   "metadata": {},
   "outputs": [
    {
     "name": "stdout",
     "output_type": "stream",
     "text": [
      "FK28721    1\n",
      "RJ90816    1\n",
      "YK66939    1\n",
      "GB39602    1\n",
      "OZ47099    1\n",
      "          ..\n",
      "AM97901    1\n",
      "GG68407    1\n",
      "HG83893    1\n",
      "WO90953    1\n",
      "IC44995    1\n",
      "Name: customer, Length: 9134, dtype: int64 \n",
      "\n",
      "California    3150\n",
      "Oregon        2601\n",
      "Arizona       1703\n",
      "Nevada         882\n",
      "Washington     798\n",
      "Name: state, dtype: int64 \n",
      "\n",
      "No     7826\n",
      "Yes    1308\n",
      "Name: response, dtype: int64 \n",
      "\n",
      "Basic       5568\n",
      "Extended    2742\n",
      "Premium      824\n",
      "Name: coverage, dtype: int64 \n",
      "\n",
      "Bachelor                2748\n",
      "College                 2681\n",
      "High School or Below    2622\n",
      "Master                   741\n",
      "Doctor                   342\n",
      "Name: education, dtype: int64 \n",
      "\n",
      "Employed         5698\n",
      "Unemployed       2317\n",
      "Medical Leave     432\n",
      "Disabled          405\n",
      "Retired           282\n",
      "Name: employmentstatus, dtype: int64 \n",
      "\n",
      "F    4658\n",
      "M    4476\n",
      "Name: gender, dtype: int64 \n",
      "\n",
      "Suburban    5779\n",
      "Rural       1773\n",
      "Urban       1582\n",
      "Name: location_code, dtype: int64 \n",
      "\n",
      "Married     5298\n",
      "Single      2467\n",
      "Divorced    1369\n",
      "Name: marital_status, dtype: int64 \n",
      "\n",
      "Personal Auto     6788\n",
      "Corporate Auto    1968\n",
      "Special Auto       378\n",
      "Name: policy_type, dtype: int64 \n",
      "\n",
      "Personal L3     3426\n",
      "Personal L2     2122\n",
      "Personal L1     1240\n",
      "Corporate L3    1014\n",
      "Corporate L2     595\n",
      "Corporate L1     359\n",
      "Special L2       164\n",
      "Special L3       148\n",
      "Special L1        66\n",
      "Name: policy, dtype: int64 \n",
      "\n",
      "Offer1    3752\n",
      "Offer2    2926\n",
      "Offer3    1432\n",
      "Offer4    1024\n",
      "Name: renew_offer_type, dtype: int64 \n",
      "\n",
      "Agent          3477\n",
      "Branch         2567\n",
      "Call Center    1765\n",
      "Web            1325\n",
      "Name: sales_channel, dtype: int64 \n",
      "\n",
      "Four-Door Car    4621\n",
      "Two-Door Car     1886\n",
      "SUV              1796\n",
      "Sports Car        484\n",
      "Luxury SUV        184\n",
      "Luxury Car        163\n",
      "Name: vehicle_class, dtype: int64 \n",
      "\n",
      "Medsize    6424\n",
      "Small      1764\n",
      "Large       946\n",
      "Name: vehicle_size, dtype: int64 \n",
      "\n"
     ]
    }
   ],
   "source": [
    "for col in customer_df.select_dtypes('object'):\n",
    "    print(customer_df[col].value_counts(), '\\n')"
   ]
  },
  {
   "cell_type": "markdown",
   "id": "f7335f4f-c021-4614-88f7-3a9415ced509",
   "metadata": {},
   "source": [
    "--> no columns with empy spaces instead of NaN!"
   ]
  },
  {
   "cell_type": "markdown",
   "id": "b00cdcc1",
   "metadata": {},
   "source": [
    "### 7. Define a function that differentiates between continuous and discrete variables. Hint: A number of unique values might be useful. Store continuous data into a continuous variable and do the same for discrete and categorical."
   ]
  },
  {
   "cell_type": "code",
   "execution_count": 57,
   "id": "32089422-abf3-4c84-a0d3-7057d7a7f1fb",
   "metadata": {},
   "outputs": [
    {
     "name": "stdout",
     "output_type": "stream",
     "text": [
      "2248.449633     6\n",
      "10972.067780    6\n",
      "5619.689084     6\n",
      "11981.984810    6\n",
      "2530.705137     6\n",
      "               ..\n",
      "12349.702320    1\n",
      "4046.936065     1\n",
      "2121.313061     1\n",
      "7232.609391     1\n",
      "3297.904615     1\n",
      "Name: customer_lifetime_value, Length: 8041, dtype: int64\n",
      "0        2317\n",
      "95697      12\n",
      "26876       7\n",
      "61108       7\n",
      "25965       7\n",
      "         ... \n",
      "36259       1\n",
      "69011       1\n",
      "38638       1\n",
      "30092       1\n",
      "51199       1\n",
      "Name: income, Length: 5694, dtype: int64\n",
      "65     348\n",
      "66     307\n",
      "71     304\n",
      "73     302\n",
      "63     289\n",
      "      ... \n",
      "147      1\n",
      "290      1\n",
      "273      1\n",
      "298      1\n",
      "205      1\n",
      "Name: monthly_premium_auto, Length: 202, dtype: int64\n",
      "3     381\n",
      "6     364\n",
      "1     345\n",
      "4     335\n",
      "7     333\n",
      "2     329\n",
      "0     314\n",
      "5     313\n",
      "10    306\n",
      "11    297\n",
      "16    295\n",
      "15    286\n",
      "13    285\n",
      "8     279\n",
      "12    273\n",
      "14    268\n",
      "17    263\n",
      "9     250\n",
      "19    246\n",
      "23    239\n",
      "25    236\n",
      "21    233\n",
      "20    231\n",
      "18    229\n",
      "22    218\n",
      "24    211\n",
      "29    206\n",
      "28    201\n",
      "31    190\n",
      "26    186\n",
      "30    182\n",
      "27    182\n",
      "33    179\n",
      "34    169\n",
      "35    142\n",
      "32    138\n",
      "Name: months_since_last_claim, dtype: int64\n",
      "59    142\n",
      "61    128\n",
      "50    125\n",
      "44    115\n",
      "10    114\n",
      "     ... \n",
      "16     70\n",
      "96     67\n",
      "82     56\n",
      "98     54\n",
      "97     52\n",
      "Name: months_since_policy_inception, Length: 100, dtype: int64\n",
      "0    7252\n",
      "1    1011\n",
      "2     374\n",
      "3     292\n",
      "4     149\n",
      "5      56\n",
      "Name: number_of_open_complaints, dtype: int64\n",
      "1    3251\n",
      "2    2294\n",
      "3    1168\n",
      "7     433\n",
      "9     416\n",
      "4     409\n",
      "5     407\n",
      "8     384\n",
      "6     372\n",
      "Name: number_of_policies, dtype: int64\n",
      "316.800000     116\n",
      "292.800000     110\n",
      "312.000000     108\n",
      "350.400000     105\n",
      "331.200000     102\n",
      "              ... \n",
      "480.073548       1\n",
      "232.674417       1\n",
      "424.711758       1\n",
      "1272.546918      1\n",
      "11.549207        1\n",
      "Name: total_claim_amount, Length: 5106, dtype: int64\n"
     ]
    }
   ],
   "source": [
    "for col in customer_df.select_dtypes(np.number):\n",
    "    print(customer_df[col].value_counts())"
   ]
  },
  {
   "cell_type": "code",
   "execution_count": 61,
   "id": "e582ee8d-3f0a-44f0-8dda-bd0b8c6e0f92",
   "metadata": {},
   "outputs": [
    {
     "data": {
      "text/plain": [
       "customer_lifetime_value          8041\n",
       "income                           5694\n",
       "monthly_premium_auto              202\n",
       "months_since_last_claim            36\n",
       "months_since_policy_inception     100\n",
       "number_of_open_complaints           6\n",
       "number_of_policies                  9\n",
       "total_claim_amount               5106\n",
       "dtype: int64"
      ]
     },
     "execution_count": 61,
     "metadata": {},
     "output_type": "execute_result"
    }
   ],
   "source": [
    "customer_df.select_dtypes(np.number).nunique()"
   ]
  },
  {
   "cell_type": "code",
   "execution_count": 58,
   "id": "9fe05b43-18c6-4ab2-81c6-a2e61a33cf88",
   "metadata": {},
   "outputs": [
    {
     "data": {
      "text/html": [
       "<style>\n",
       "    table {\n",
       "        display: inline-block\n",
       "    }\n",
       "</style>\n"
      ],
      "text/plain": [
       "<IPython.core.display.HTML object>"
      ]
     },
     "metadata": {},
     "output_type": "display_data"
    }
   ],
   "source": [
    "%%html\n",
    "<style>\n",
    "    table {\n",
    "        display: inline-block\n",
    "    }\n",
    "</style>"
   ]
  },
  {
   "cell_type": "markdown",
   "id": "472ee9b6-8701-4fa2-a8a0-11415a2274f5",
   "metadata": {},
   "source": [
    "**My conclusion after checking value counts and uniques and using general knowledge:**\n",
    "\n",
    "\n",
    "|continuous|discrecte|\n",
    "|:---|:---|\n",
    "|total_claim_amount|number_of_policies|\n",
    "|income|number_of_open_complaints|\n",
    "|customer_lifetime_value|months_since_policy_inception|\n",
    "||months_since_last_claim|\n",
    "||monthly_premium_auto|\n",
    "||\n",
    "\n",
    "--> how to get this result with a function? <br>\n",
    "--> Google always helps :D "
   ]
  },
  {
   "cell_type": "code",
   "execution_count": 105,
   "id": "b157f9ba-4157-42e1-8d88-190fa423a817",
   "metadata": {},
   "outputs": [],
   "source": [
    "def funct_uniques(df, col):\n",
    "    \n",
    "    # variable to hold count of unique values\n",
    "    cnt = 0\n",
    "  \n",
    "    # list to hold unique values\n",
    "    uniques = []\n",
    "\n",
    "    for i in range(0, len(df)):\n",
    "        \n",
    "        if df[col][i] not in uniques:\n",
    "            \n",
    "            uniques.append(df[col][i])\n",
    "            cnt += 1\n",
    "    \n",
    "    if cnt <= 300:\n",
    "        print('Name of column: ', col)\n",
    "        print('Number of unique values: ', cnt)\n",
    "        print('List of unique values: ', uniques, '\\n')\n",
    "    else:\n",
    "        print('Name of column: ', col)\n",
    "        print('Number of unique values: ', cnt)\n",
    "        print(col, 'is probably CONTINUOUS!', '\\n')"
   ]
  },
  {
   "cell_type": "code",
   "execution_count": 101,
   "id": "ece30c19-393a-4041-8b57-2c43feb60e56",
   "metadata": {},
   "outputs": [
    {
     "name": "stdout",
     "output_type": "stream",
     "text": [
      "Name of column:  number_of_policies\n",
      "Number of unique values:  9\n",
      "List of unique values:  [1, 8, 2, 7, 9, 4, 3, 6, 5]\n"
     ]
    }
   ],
   "source": [
    "funct_uniques(customer_df, 'number_of_policies')"
   ]
  },
  {
   "cell_type": "code",
   "execution_count": 106,
   "id": "02ce7a3d-cb21-48e0-8ee3-6af9eac032b8",
   "metadata": {},
   "outputs": [
    {
     "name": "stdout",
     "output_type": "stream",
     "text": [
      "Name of column:  customer_lifetime_value\n",
      "Number of unique values:  8041\n",
      "customer_lifetime_value is probably CONTINUOUS! \n",
      "\n",
      "Name of column:  income\n",
      "Number of unique values:  5694\n",
      "income is probably CONTINUOUS! \n",
      "\n",
      "Name of column:  monthly_premium_auto\n",
      "Number of unique values:  202\n",
      "List of unique values:  [69, 94, 108, 106, 73, 67, 101, 71, 93, 110, 70, 64, 72, 74, 79, 61, 111, 139, 80, 63, 237, 65, 62, 117, 91, 90, 66, 99, 103, 172, 92, 104, 113, 124, 105, 100, 112, 97, 95, 102, 186, 77, 96, 76, 119, 88, 109, 107, 130, 85, 98, 133, 86, 78, 83, 68, 192, 118, 89, 140, 127, 168, 126, 82, 115, 217, 114, 138, 81, 255, 150, 123, 116, 190, 159, 84, 152, 136, 245, 135, 128, 225, 132, 153, 121, 154, 161, 156, 171, 87, 244, 183, 176, 230, 129, 177, 196, 131, 276, 253, 137, 180, 203, 147, 165, 198, 125, 193, 271, 188, 142, 206, 182, 189, 160, 295, 210, 134, 239, 256, 173, 285, 148, 197, 199, 214, 175, 167, 194, 164, 181, 222, 215, 283, 169, 248, 223, 273, 151, 213, 145, 185, 287, 297, 201, 149, 146, 235, 268, 211, 187, 141, 242, 170, 122, 143, 155, 166, 212, 249, 240, 191, 195, 216, 144, 179, 232, 158, 207, 184, 238, 229, 220, 178, 204, 281, 234, 218, 275, 209, 261, 157, 205, 228, 284, 231, 208, 296, 202, 162, 274, 219, 247, 290, 226, 163, 298, 266, 254, 252, 174, 286] \n",
      "\n",
      "Name of column:  months_since_last_claim\n",
      "Number of unique values:  36\n",
      "List of unique values:  [32, 13, 18, 12, 14, 0, 17, 23, 27, 9, 21, 11, 31, 8, 4, 30, 22, 15, 33, 1, 19, 28, 10, 7, 3, 5, 20, 24, 29, 34, 6, 35, 2, 16, 26, 25] \n",
      "\n",
      "Name of column:  months_since_policy_inception\n",
      "Number of unique values:  100\n",
      "List of unique values:  [5, 42, 38, 65, 44, 94, 13, 68, 3, 7, 87, 82, 25, 10, 50, 59, 1, 21, 49, 91, 47, 64, 54, 6, 14, 56, 17, 40, 62, 86, 79, 15, 32, 28, 16, 4, 57, 77, 95, 26, 53, 12, 98, 36, 71, 60, 20, 0, 27, 48, 33, 83, 30, 69, 90, 81, 84, 88, 18, 11, 85, 93, 34, 89, 2, 70, 37, 43, 8, 35, 99, 55, 75, 51, 92, 29, 63, 61, 46, 41, 31, 45, 67, 22, 23, 9, 72, 96, 58, 66, 73, 39, 19, 97, 52, 76, 78, 80, 74, 24] \n",
      "\n",
      "Name of column:  number_of_open_complaints\n",
      "Number of unique values:  6\n",
      "List of unique values:  [0, 2, 1, 3, 5, 4] \n",
      "\n",
      "Name of column:  number_of_policies\n",
      "Number of unique values:  9\n",
      "List of unique values:  [1, 8, 2, 7, 9, 4, 3, 6, 5] \n",
      "\n",
      "Name of column:  total_claim_amount\n",
      "Number of unique values:  5106\n",
      "total_claim_amount is probably CONTINUOUS! \n",
      "\n"
     ]
    }
   ],
   "source": [
    "for col in customer_df.select_dtypes(np.number).columns:\n",
    "    funct_uniques(customer_df, col)"
   ]
  },
  {
   "cell_type": "markdown",
   "id": "3f193f28",
   "metadata": {},
   "source": [
    "### 8. For the categorical data, check if there is some kind of text in a variable so we would need to clean it. Hint: Use the same method you used in step 7. Depending on the implementation, decide what to do with the variables you get."
   ]
  },
  {
   "cell_type": "code",
   "execution_count": 107,
   "id": "16578fb4",
   "metadata": {},
   "outputs": [
    {
     "name": "stdout",
     "output_type": "stream",
     "text": [
      "Name of column:  customer\n",
      "Number of unique values:  9134\n",
      "customer is probably CONTINUOUS! \n",
      "\n",
      "Name of column:  state\n",
      "Number of unique values:  5\n",
      "List of unique values:  ['Washington', 'Arizona', 'Nevada', 'California', 'Oregon'] \n",
      "\n",
      "Name of column:  response\n",
      "Number of unique values:  2\n",
      "List of unique values:  ['No', 'Yes'] \n",
      "\n",
      "Name of column:  coverage\n",
      "Number of unique values:  3\n",
      "List of unique values:  ['Basic', 'Extended', 'Premium'] \n",
      "\n",
      "Name of column:  education\n",
      "Number of unique values:  5\n",
      "List of unique values:  ['Bachelor', 'College', 'Master', 'High School or Below', 'Doctor'] \n",
      "\n",
      "Name of column:  employmentstatus\n",
      "Number of unique values:  5\n",
      "List of unique values:  ['Employed', 'Unemployed', 'Medical Leave', 'Disabled', 'Retired'] \n",
      "\n",
      "Name of column:  gender\n",
      "Number of unique values:  2\n",
      "List of unique values:  ['F', 'M'] \n",
      "\n",
      "Name of column:  location_code\n",
      "Number of unique values:  3\n",
      "List of unique values:  ['Suburban', 'Rural', 'Urban'] \n",
      "\n",
      "Name of column:  marital_status\n",
      "Number of unique values:  3\n",
      "List of unique values:  ['Married', 'Single', 'Divorced'] \n",
      "\n",
      "Name of column:  policy_type\n",
      "Number of unique values:  3\n",
      "List of unique values:  ['Corporate Auto', 'Personal Auto', 'Special Auto'] \n",
      "\n",
      "Name of column:  policy\n",
      "Number of unique values:  9\n",
      "List of unique values:  ['Corporate L3', 'Personal L3', 'Corporate L2', 'Personal L1', 'Special L2', 'Corporate L1', 'Personal L2', 'Special L1', 'Special L3'] \n",
      "\n",
      "Name of column:  renew_offer_type\n",
      "Number of unique values:  4\n",
      "List of unique values:  ['Offer1', 'Offer3', 'Offer2', 'Offer4'] \n",
      "\n",
      "Name of column:  sales_channel\n",
      "Number of unique values:  4\n",
      "List of unique values:  ['Agent', 'Call Center', 'Web', 'Branch'] \n",
      "\n",
      "Name of column:  vehicle_class\n",
      "Number of unique values:  6\n",
      "List of unique values:  ['Two-Door Car', 'Four-Door Car', 'SUV', 'Luxury SUV', 'Sports Car', 'Luxury Car'] \n",
      "\n",
      "Name of column:  vehicle_size\n",
      "Number of unique values:  3\n",
      "List of unique values:  ['Medsize', 'Small', 'Large'] \n",
      "\n"
     ]
    }
   ],
   "source": [
    "for col in customer_df.select_dtypes('object').columns:\n",
    "    funct_uniques(customer_df, col)"
   ]
  },
  {
   "cell_type": "markdown",
   "id": "b5e88313",
   "metadata": {},
   "source": [
    "### 9. Get categorical features."
   ]
  },
  {
   "cell_type": "code",
   "execution_count": 55,
   "id": "c6968c8e",
   "metadata": {},
   "outputs": [
    {
     "name": "stdout",
     "output_type": "stream",
     "text": [
      "customer : ['BU79786' 'QZ44356' 'AI49188' ... 'TD14365' 'UP19263' 'Y167826']\n",
      "state : ['Washington' 'Arizona' 'Nevada' 'California' 'Oregon']\n",
      "response : ['No' 'Yes']\n",
      "coverage : ['Basic' 'Extended' 'Premium']\n",
      "education : ['Bachelor' 'College' 'Master' 'High School or Below' 'Doctor']\n",
      "employmentstatus : ['Employed' 'Unemployed' 'Medical Leave' 'Disabled' 'Retired']\n",
      "gender : ['F' 'M']\n",
      "location_code : ['Suburban' 'Rural' 'Urban']\n",
      "marital_status : ['Married' 'Single' 'Divorced']\n",
      "policy_type : ['Corporate Auto' 'Personal Auto' 'Special Auto']\n",
      "policy : ['Corporate L3' 'Personal L3' 'Corporate L2' 'Personal L1' 'Special L2'\n",
      " 'Corporate L1' 'Personal L2' 'Special L1' 'Special L3']\n",
      "renew_offer_type : ['Offer1' 'Offer3' 'Offer2' 'Offer4']\n",
      "sales_channel : ['Agent' 'Call Center' 'Web' 'Branch']\n",
      "vehicle_class : ['Two-Door Car' 'Four-Door Car' 'SUV' 'Luxury SUV' 'Sports Car'\n",
      " 'Luxury Car']\n",
      "vehicle_size : ['Medsize' 'Small' 'Large']\n"
     ]
    }
   ],
   "source": [
    "for col in customer_df.select_dtypes('object'):\n",
    "    print(col, ':', customer_df[col].unique())"
   ]
  },
  {
   "cell_type": "markdown",
   "id": "dfe80fc9",
   "metadata": {},
   "source": [
    "### 10. What should we do with the customer_id column?"
   ]
  },
  {
   "cell_type": "markdown",
   "id": "1c514cc1-9fde-4873-8d69-bcf2fa212056",
   "metadata": {},
   "source": [
    "Different possibilities:\n",
    "- setting \"customer\" as index (as it contains only unique values)<br>\n",
    "   -->  _customer_df = customer_df.set_index('customer')_\n",
    "- removing column from dataframe before doing further analysis\n",
    "- extracting information from column (e.g. letters in one column and numbers = customer_id in other column)<br>\n",
    "    --> this would only make sense if we know that the letters actually signify something and it would make sense to group"
   ]
  },
  {
   "cell_type": "code",
   "execution_count": null,
   "id": "408f435e-27e9-41b9-98b3-46db2ce93311",
   "metadata": {},
   "outputs": [],
   "source": []
  }
 ],
 "metadata": {
  "kernelspec": {
   "display_name": "Python 3",
   "language": "python",
   "name": "python3"
  },
  "language_info": {
   "codemirror_mode": {
    "name": "ipython",
    "version": 3
   },
   "file_extension": ".py",
   "mimetype": "text/x-python",
   "name": "python",
   "nbconvert_exporter": "python",
   "pygments_lexer": "ipython3",
   "version": "3.9.6"
  }
 },
 "nbformat": 4,
 "nbformat_minor": 5
}
